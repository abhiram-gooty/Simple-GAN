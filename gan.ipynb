{
  "cells": [
    {
      "cell_type": "markdown",
      "metadata": {
        "id": "-dpA2DcAe3lA"
      },
      "source": [
        "# Importing Libraries and Data"
      ]
    },
    {
      "cell_type": "code",
      "execution_count": 1,
      "metadata": {
        "id": "xrFYGLx5e3lD"
      },
      "outputs": [],
      "source": [
        "import tensorflow as tf\n",
        "import matplotlib.pyplot as plt\n",
        "import tensorflow_datasets as tfds\n",
        "import numpy as np"
      ]
    },
    {
      "cell_type": "code",
      "execution_count": 2,
      "metadata": {
        "id": "qY_6yUKue3lE"
      },
      "outputs": [],
      "source": [
        "ds = tfds.load('fashion_mnist',split='train')"
      ]
    },
    {
      "cell_type": "code",
      "execution_count": 3,
      "metadata": {
        "colab": {
          "base_uri": "https://localhost:8080/"
        },
        "id": "G_VVOdS_e3lF",
        "outputId": "c628d3fa-5994-4cdf-e7ee-947bd84ca24a"
      },
      "outputs": [
        {
          "output_type": "execute_result",
          "data": {
            "text/plain": [
              "2"
            ]
          },
          "metadata": {},
          "execution_count": 3
        }
      ],
      "source": [
        "ds.as_numpy_iterator().next()['label']"
      ]
    },
    {
      "cell_type": "code",
      "execution_count": 4,
      "metadata": {
        "id": "dpqf5EITe3lF"
      },
      "outputs": [],
      "source": [
        "# setting up an iterator\n",
        "data_iterator = ds.as_numpy_iterator()"
      ]
    },
    {
      "cell_type": "code",
      "execution_count": 48,
      "metadata": {
        "colab": {
          "base_uri": "https://localhost:8080/"
        },
        "id": "An_qtbNbe3lF",
        "outputId": "529a051f-fc53-4799-a2f6-a8f40f0b41e6"
      },
      "outputs": [
        {
          "output_type": "execute_result",
          "data": {
            "text/plain": [
              "{'image': array([[[  0],\n",
              "         [  0],\n",
              "         [  0],\n",
              "         [  0],\n",
              "         [  0],\n",
              "         [  0],\n",
              "         [  1],\n",
              "         [  1],\n",
              "         [  0],\n",
              "         [  0],\n",
              "         [  0],\n",
              "         [  0],\n",
              "         [  0],\n",
              "         [  0],\n",
              "         [  0],\n",
              "         [  0],\n",
              "         [  0],\n",
              "         [  0],\n",
              "         [  0],\n",
              "         [  0],\n",
              "         [  0],\n",
              "         [  2],\n",
              "         [  1],\n",
              "         [  1],\n",
              "         [  0],\n",
              "         [  0],\n",
              "         [  0],\n",
              "         [  0]],\n",
              " \n",
              "        [[  0],\n",
              "         [  0],\n",
              "         [  0],\n",
              "         [  0],\n",
              "         [  0],\n",
              "         [  0],\n",
              "         [  0],\n",
              "         [  0],\n",
              "         [  0],\n",
              "         [  0],\n",
              "         [ 69],\n",
              "         [146],\n",
              "         [ 56],\n",
              "         [  4],\n",
              "         [ 14],\n",
              "         [ 10],\n",
              "         [ 59],\n",
              "         [149],\n",
              "         [ 70],\n",
              "         [  0],\n",
              "         [  0],\n",
              "         [  0],\n",
              "         [  0],\n",
              "         [  2],\n",
              "         [  0],\n",
              "         [  0],\n",
              "         [  0],\n",
              "         [  0]],\n",
              " \n",
              "        [[  0],\n",
              "         [  0],\n",
              "         [  0],\n",
              "         [  0],\n",
              "         [  1],\n",
              "         [  0],\n",
              "         [  0],\n",
              "         [ 83],\n",
              "         [202],\n",
              "         [229],\n",
              "         [254],\n",
              "         [248],\n",
              "         [243],\n",
              "         [245],\n",
              "         [240],\n",
              "         [246],\n",
              "         [237],\n",
              "         [248],\n",
              "         [253],\n",
              "         [229],\n",
              "         [203],\n",
              "         [ 81],\n",
              "         [  0],\n",
              "         [  0],\n",
              "         [  0],\n",
              "         [  0],\n",
              "         [  0],\n",
              "         [  0]],\n",
              " \n",
              "        [[  0],\n",
              "         [  0],\n",
              "         [  0],\n",
              "         [  0],\n",
              "         [  0],\n",
              "         [  0],\n",
              "         [177],\n",
              "         [255],\n",
              "         [250],\n",
              "         [239],\n",
              "         [234],\n",
              "         [233],\n",
              "         [196],\n",
              "         [212],\n",
              "         [216],\n",
              "         [215],\n",
              "         [207],\n",
              "         [233],\n",
              "         [233],\n",
              "         [238],\n",
              "         [249],\n",
              "         [255],\n",
              "         [156],\n",
              "         [  0],\n",
              "         [  0],\n",
              "         [  0],\n",
              "         [  0],\n",
              "         [  0]],\n",
              " \n",
              "        [[  0],\n",
              "         [  0],\n",
              "         [  0],\n",
              "         [  0],\n",
              "         [  0],\n",
              "         [ 59],\n",
              "         [254],\n",
              "         [232],\n",
              "         [235],\n",
              "         [237],\n",
              "         [235],\n",
              "         [242],\n",
              "         [236],\n",
              "         [194],\n",
              "         [181],\n",
              "         [208],\n",
              "         [243],\n",
              "         [240],\n",
              "         [238],\n",
              "         [236],\n",
              "         [233],\n",
              "         [232],\n",
              "         [253],\n",
              "         [ 67],\n",
              "         [  0],\n",
              "         [  0],\n",
              "         [  0],\n",
              "         [  0]],\n",
              " \n",
              "        [[  0],\n",
              "         [  0],\n",
              "         [  0],\n",
              "         [  0],\n",
              "         [  0],\n",
              "         [155],\n",
              "         [255],\n",
              "         [235],\n",
              "         [241],\n",
              "         [237],\n",
              "         [238],\n",
              "         [236],\n",
              "         [239],\n",
              "         [250],\n",
              "         [243],\n",
              "         [245],\n",
              "         [238],\n",
              "         [234],\n",
              "         [237],\n",
              "         [235],\n",
              "         [240],\n",
              "         [234],\n",
              "         [254],\n",
              "         [157],\n",
              "         [  0],\n",
              "         [  0],\n",
              "         [  0],\n",
              "         [  0]],\n",
              " \n",
              "        [[  0],\n",
              "         [  0],\n",
              "         [  0],\n",
              "         [  0],\n",
              "         [  0],\n",
              "         [189],\n",
              "         [255],\n",
              "         [237],\n",
              "         [240],\n",
              "         [238],\n",
              "         [237],\n",
              "         [235],\n",
              "         [232],\n",
              "         [233],\n",
              "         [236],\n",
              "         [235],\n",
              "         [235],\n",
              "         [235],\n",
              "         [235],\n",
              "         [236],\n",
              "         [240],\n",
              "         [235],\n",
              "         [255],\n",
              "         [189],\n",
              "         [  0],\n",
              "         [  0],\n",
              "         [  0],\n",
              "         [  0]],\n",
              " \n",
              "        [[  0],\n",
              "         [  0],\n",
              "         [  0],\n",
              "         [  0],\n",
              "         [  0],\n",
              "         [212],\n",
              "         [254],\n",
              "         [239],\n",
              "         [239],\n",
              "         [238],\n",
              "         [238],\n",
              "         [236],\n",
              "         [234],\n",
              "         [236],\n",
              "         [236],\n",
              "         [236],\n",
              "         [236],\n",
              "         [235],\n",
              "         [235],\n",
              "         [238],\n",
              "         [237],\n",
              "         [238],\n",
              "         [253],\n",
              "         [214],\n",
              "         [  0],\n",
              "         [  0],\n",
              "         [  0],\n",
              "         [  0]],\n",
              " \n",
              "        [[  0],\n",
              "         [  0],\n",
              "         [  0],\n",
              "         [  0],\n",
              "         [  0],\n",
              "         [231],\n",
              "         [248],\n",
              "         [243],\n",
              "         [248],\n",
              "         [239],\n",
              "         [238],\n",
              "         [236],\n",
              "         [235],\n",
              "         [236],\n",
              "         [236],\n",
              "         [236],\n",
              "         [235],\n",
              "         [236],\n",
              "         [237],\n",
              "         [238],\n",
              "         [244],\n",
              "         [242],\n",
              "         [248],\n",
              "         [233],\n",
              "         [  0],\n",
              "         [  0],\n",
              "         [  0],\n",
              "         [  0]],\n",
              " \n",
              "        [[  0],\n",
              "         [  0],\n",
              "         [  0],\n",
              "         [  0],\n",
              "         [  0],\n",
              "         [219],\n",
              "         [246],\n",
              "         [243],\n",
              "         [241],\n",
              "         [245],\n",
              "         [238],\n",
              "         [238],\n",
              "         [237],\n",
              "         [238],\n",
              "         [237],\n",
              "         [237],\n",
              "         [237],\n",
              "         [235],\n",
              "         [237],\n",
              "         [245],\n",
              "         [237],\n",
              "         [241],\n",
              "         [244],\n",
              "         [218],\n",
              "         [  0],\n",
              "         [  0],\n",
              "         [  0],\n",
              "         [  0]],\n",
              " \n",
              "        [[  0],\n",
              "         [  0],\n",
              "         [  0],\n",
              "         [  0],\n",
              "         [  0],\n",
              "         [232],\n",
              "         [247],\n",
              "         [236],\n",
              "         [ 76],\n",
              "         [255],\n",
              "         [235],\n",
              "         [238],\n",
              "         [239],\n",
              "         [238],\n",
              "         [237],\n",
              "         [237],\n",
              "         [237],\n",
              "         [237],\n",
              "         [234],\n",
              "         [255],\n",
              "         [ 74],\n",
              "         [236],\n",
              "         [245],\n",
              "         [232],\n",
              "         [  0],\n",
              "         [  0],\n",
              "         [  0],\n",
              "         [  0]],\n",
              " \n",
              "        [[  0],\n",
              "         [  0],\n",
              "         [  0],\n",
              "         [  0],\n",
              "         [  0],\n",
              "         [237],\n",
              "         [244],\n",
              "         [255],\n",
              "         [ 40],\n",
              "         [255],\n",
              "         [239],\n",
              "         [238],\n",
              "         [238],\n",
              "         [238],\n",
              "         [237],\n",
              "         [237],\n",
              "         [237],\n",
              "         [234],\n",
              "         [241],\n",
              "         [255],\n",
              "         [ 42],\n",
              "         [255],\n",
              "         [243],\n",
              "         [237],\n",
              "         [  0],\n",
              "         [  0],\n",
              "         [  0],\n",
              "         [  0]],\n",
              " \n",
              "        [[  0],\n",
              "         [  0],\n",
              "         [  0],\n",
              "         [  0],\n",
              "         [  0],\n",
              "         [240],\n",
              "         [242],\n",
              "         [255],\n",
              "         [  0],\n",
              "         [236],\n",
              "         [251],\n",
              "         [235],\n",
              "         [238],\n",
              "         [238],\n",
              "         [237],\n",
              "         [237],\n",
              "         [237],\n",
              "         [234],\n",
              "         [248],\n",
              "         [238],\n",
              "         [  0],\n",
              "         [255],\n",
              "         [240],\n",
              "         [240],\n",
              "         [  0],\n",
              "         [  0],\n",
              "         [  0],\n",
              "         [  0]],\n",
              " \n",
              "        [[  0],\n",
              "         [  0],\n",
              "         [  0],\n",
              "         [  0],\n",
              "         [ 20],\n",
              "         [244],\n",
              "         [240],\n",
              "         [255],\n",
              "         [  0],\n",
              "         [225],\n",
              "         [255],\n",
              "         [233],\n",
              "         [237],\n",
              "         [237],\n",
              "         [236],\n",
              "         [236],\n",
              "         [236],\n",
              "         [232],\n",
              "         [255],\n",
              "         [226],\n",
              "         [  0],\n",
              "         [255],\n",
              "         [241],\n",
              "         [244],\n",
              "         [ 19],\n",
              "         [  0],\n",
              "         [  0],\n",
              "         [  0]],\n",
              " \n",
              "        [[  0],\n",
              "         [  0],\n",
              "         [  0],\n",
              "         [  0],\n",
              "         [ 74],\n",
              "         [250],\n",
              "         [242],\n",
              "         [255],\n",
              "         [  0],\n",
              "         [232],\n",
              "         [255],\n",
              "         [232],\n",
              "         [237],\n",
              "         [236],\n",
              "         [236],\n",
              "         [236],\n",
              "         [236],\n",
              "         [232],\n",
              "         [255],\n",
              "         [232],\n",
              "         [  0],\n",
              "         [255],\n",
              "         [242],\n",
              "         [250],\n",
              "         [ 77],\n",
              "         [  0],\n",
              "         [  0],\n",
              "         [  0]],\n",
              " \n",
              "        [[  0],\n",
              "         [  0],\n",
              "         [  0],\n",
              "         [  0],\n",
              "         [120],\n",
              "         [254],\n",
              "         [245],\n",
              "         [255],\n",
              "         [  0],\n",
              "         [240],\n",
              "         [251],\n",
              "         [232],\n",
              "         [236],\n",
              "         [236],\n",
              "         [236],\n",
              "         [236],\n",
              "         [236],\n",
              "         [232],\n",
              "         [255],\n",
              "         [239],\n",
              "         [  0],\n",
              "         [255],\n",
              "         [246],\n",
              "         [254],\n",
              "         [123],\n",
              "         [  0],\n",
              "         [  0],\n",
              "         [  0]],\n",
              " \n",
              "        [[  0],\n",
              "         [  0],\n",
              "         [  0],\n",
              "         [  0],\n",
              "         [143],\n",
              "         [250],\n",
              "         [250],\n",
              "         [239],\n",
              "         [  0],\n",
              "         [255],\n",
              "         [238],\n",
              "         [235],\n",
              "         [236],\n",
              "         [236],\n",
              "         [235],\n",
              "         [235],\n",
              "         [235],\n",
              "         [234],\n",
              "         [238],\n",
              "         [255],\n",
              "         [  0],\n",
              "         [239],\n",
              "         [250],\n",
              "         [248],\n",
              "         [140],\n",
              "         [  0],\n",
              "         [  0],\n",
              "         [  0]],\n",
              " \n",
              "        [[  0],\n",
              "         [  0],\n",
              "         [  0],\n",
              "         [  0],\n",
              "         [143],\n",
              "         [248],\n",
              "         [254],\n",
              "         [206],\n",
              "         [  4],\n",
              "         [255],\n",
              "         [228],\n",
              "         [236],\n",
              "         [236],\n",
              "         [236],\n",
              "         [235],\n",
              "         [235],\n",
              "         [235],\n",
              "         [234],\n",
              "         [227],\n",
              "         [255],\n",
              "         [  6],\n",
              "         [204],\n",
              "         [253],\n",
              "         [246],\n",
              "         [144],\n",
              "         [  0],\n",
              "         [  0],\n",
              "         [  0]],\n",
              " \n",
              "        [[  0],\n",
              "         [  0],\n",
              "         [  0],\n",
              "         [  0],\n",
              "         [144],\n",
              "         [247],\n",
              "         [255],\n",
              "         [158],\n",
              "         [ 35],\n",
              "         [255],\n",
              "         [226],\n",
              "         [235],\n",
              "         [234],\n",
              "         [234],\n",
              "         [235],\n",
              "         [235],\n",
              "         [235],\n",
              "         [238],\n",
              "         [225],\n",
              "         [255],\n",
              "         [ 32],\n",
              "         [157],\n",
              "         [255],\n",
              "         [247],\n",
              "         [148],\n",
              "         [  0],\n",
              "         [  0],\n",
              "         [  0]],\n",
              " \n",
              "        [[  0],\n",
              "         [  0],\n",
              "         [  0],\n",
              "         [  0],\n",
              "         [141],\n",
              "         [245],\n",
              "         [255],\n",
              "         [ 77],\n",
              "         [ 66],\n",
              "         [255],\n",
              "         [225],\n",
              "         [235],\n",
              "         [234],\n",
              "         [234],\n",
              "         [235],\n",
              "         [235],\n",
              "         [235],\n",
              "         [235],\n",
              "         [221],\n",
              "         [255],\n",
              "         [ 63],\n",
              "         [ 75],\n",
              "         [255],\n",
              "         [245],\n",
              "         [140],\n",
              "         [  0],\n",
              "         [  0],\n",
              "         [  0]],\n",
              " \n",
              "        [[  0],\n",
              "         [  0],\n",
              "         [  0],\n",
              "         [  0],\n",
              "         [138],\n",
              "         [244],\n",
              "         [255],\n",
              "         [ 34],\n",
              "         [ 95],\n",
              "         [255],\n",
              "         [222],\n",
              "         [235],\n",
              "         [235],\n",
              "         [235],\n",
              "         [235],\n",
              "         [235],\n",
              "         [235],\n",
              "         [237],\n",
              "         [222],\n",
              "         [255],\n",
              "         [ 90],\n",
              "         [ 32],\n",
              "         [255],\n",
              "         [244],\n",
              "         [137],\n",
              "         [  0],\n",
              "         [  0],\n",
              "         [  0]],\n",
              " \n",
              "        [[  0],\n",
              "         [  0],\n",
              "         [  0],\n",
              "         [  0],\n",
              "         [143],\n",
              "         [245],\n",
              "         [255],\n",
              "         [  0],\n",
              "         [117],\n",
              "         [255],\n",
              "         [230],\n",
              "         [235],\n",
              "         [235],\n",
              "         [235],\n",
              "         [235],\n",
              "         [235],\n",
              "         [235],\n",
              "         [234],\n",
              "         [229],\n",
              "         [255],\n",
              "         [120],\n",
              "         [  0],\n",
              "         [255],\n",
              "         [244],\n",
              "         [144],\n",
              "         [  0],\n",
              "         [  0],\n",
              "         [  0]],\n",
              " \n",
              "        [[  0],\n",
              "         [  0],\n",
              "         [  0],\n",
              "         [  0],\n",
              "         [144],\n",
              "         [246],\n",
              "         [255],\n",
              "         [  0],\n",
              "         [151],\n",
              "         [251],\n",
              "         [230],\n",
              "         [236],\n",
              "         [236],\n",
              "         [236],\n",
              "         [236],\n",
              "         [236],\n",
              "         [236],\n",
              "         [237],\n",
              "         [230],\n",
              "         [250],\n",
              "         [152],\n",
              "         [  0],\n",
              "         [255],\n",
              "         [246],\n",
              "         [146],\n",
              "         [  0],\n",
              "         [  0],\n",
              "         [  0]],\n",
              " \n",
              "        [[  0],\n",
              "         [  0],\n",
              "         [  0],\n",
              "         [  0],\n",
              "         [146],\n",
              "         [247],\n",
              "         [255],\n",
              "         [  0],\n",
              "         [182],\n",
              "         [243],\n",
              "         [228],\n",
              "         [230],\n",
              "         [230],\n",
              "         [230],\n",
              "         [230],\n",
              "         [230],\n",
              "         [230],\n",
              "         [230],\n",
              "         [225],\n",
              "         [245],\n",
              "         [178],\n",
              "         [  0],\n",
              "         [255],\n",
              "         [247],\n",
              "         [148],\n",
              "         [  0],\n",
              "         [  0],\n",
              "         [  0]],\n",
              " \n",
              "        [[  0],\n",
              "         [  0],\n",
              "         [  0],\n",
              "         [  0],\n",
              "         [156],\n",
              "         [246],\n",
              "         [255],\n",
              "         [  0],\n",
              "         [235],\n",
              "         [255],\n",
              "         [247],\n",
              "         [250],\n",
              "         [250],\n",
              "         [250],\n",
              "         [253],\n",
              "         [252],\n",
              "         [253],\n",
              "         [251],\n",
              "         [246],\n",
              "         [255],\n",
              "         [241],\n",
              "         [  0],\n",
              "         [255],\n",
              "         [246],\n",
              "         [154],\n",
              "         [  0],\n",
              "         [  0],\n",
              "         [  0]],\n",
              " \n",
              "        [[  0],\n",
              "         [  0],\n",
              "         [  0],\n",
              "         [  0],\n",
              "         [160],\n",
              "         [248],\n",
              "         [249],\n",
              "         [  0],\n",
              "         [ 36],\n",
              "         [ 86],\n",
              "         [ 73],\n",
              "         [ 75],\n",
              "         [ 74],\n",
              "         [ 76],\n",
              "         [ 89],\n",
              "         [ 88],\n",
              "         [ 89],\n",
              "         [ 78],\n",
              "         [ 83],\n",
              "         [ 95],\n",
              "         [ 41],\n",
              "         [  0],\n",
              "         [250],\n",
              "         [247],\n",
              "         [157],\n",
              "         [  0],\n",
              "         [  0],\n",
              "         [  0]],\n",
              " \n",
              "        [[  0],\n",
              "         [  0],\n",
              "         [  0],\n",
              "         [  0],\n",
              "         [179],\n",
              "         [254],\n",
              "         [226],\n",
              "         [  0],\n",
              "         [  0],\n",
              "         [  0],\n",
              "         [  0],\n",
              "         [  0],\n",
              "         [  0],\n",
              "         [  0],\n",
              "         [  0],\n",
              "         [  0],\n",
              "         [  0],\n",
              "         [  0],\n",
              "         [  0],\n",
              "         [  0],\n",
              "         [  0],\n",
              "         [  0],\n",
              "         [229],\n",
              "         [255],\n",
              "         [177],\n",
              "         [  0],\n",
              "         [  0],\n",
              "         [  0]],\n",
              " \n",
              "        [[  0],\n",
              "         [  0],\n",
              "         [  0],\n",
              "         [  0],\n",
              "         [138],\n",
              "         [228],\n",
              "         [140],\n",
              "         [  0],\n",
              "         [  0],\n",
              "         [  5],\n",
              "         [  3],\n",
              "         [  4],\n",
              "         [  4],\n",
              "         [  4],\n",
              "         [  4],\n",
              "         [  4],\n",
              "         [  4],\n",
              "         [  4],\n",
              "         [  4],\n",
              "         [  5],\n",
              "         [  0],\n",
              "         [  0],\n",
              "         [141],\n",
              "         [230],\n",
              "         [137],\n",
              "         [  0],\n",
              "         [  0],\n",
              "         [  0]]], dtype=uint8),\n",
              " 'label': 2}"
            ]
          },
          "metadata": {},
          "execution_count": 48
        }
      ],
      "source": [
        "# getting data out of pipeline\n",
        "data_iterator.next()"
      ]
    },
    {
      "cell_type": "markdown",
      "metadata": {
        "id": "mwSgsUv3e3lG"
      },
      "source": [
        "# Visualization"
      ]
    },
    {
      "cell_type": "code",
      "execution_count": 6,
      "metadata": {
        "colab": {
          "base_uri": "https://localhost:8080/",
          "height": 281
        },
        "id": "bpTAY-Fje3lG",
        "outputId": "44ff590b-6f26-4010-b8c0-689b93603b18"
      },
      "outputs": [
        {
          "output_type": "display_data",
          "data": {
            "text/plain": [
              "<Figure size 2000x2000 with 4 Axes>"
            ],
            "image/png": "[encoded data removed]"
          },
          "metadata": {}
        }
      ],
      "source": [
        "fig,ax = plt.subplots(ncols=4,figsize=(20,20))\n",
        "for idx in range(4):\n",
        "    sample = data_iterator.next()\n",
        "    ax[idx].imshow(np.squeeze(sample['image']))\n",
        "    ax[idx].title.set_text(sample['label'])"
      ]
    },
    {
      "cell_type": "code",
      "execution_count": 7,
      "metadata": {
        "id": "G1WzrKN8e3lG"
      },
      "outputs": [],
      "source": [
        "def scale_images(data):\n",
        "    image = data['image']\n",
        "    return image/255"
      ]
    },
    {
      "cell_type": "code",
      "execution_count": 8,
      "metadata": {
        "id": "fAICIgADe3lG"
      },
      "outputs": [],
      "source": [
        "# Reloaded Dataset\n",
        "df = tfds.load('fashion_mnist',split='train')\n",
        "# Mapped scaled images by running through functions\n",
        "df = df.map(scale_images)\n",
        "# Cache the dataset for that batch\n",
        "df = df.cache()\n",
        "# Shuffle it up\n",
        "df = df.shuffle(60000)\n",
        "# Batch into 128 images per sample\n",
        "df = df.batch(128)\n",
        "# Reduces the likelihood of bottlenecking\n",
        "df = df.prefetch(64)"
      ]
    },
    {
      "cell_type": "code",
      "execution_count": 9,
      "metadata": {
        "colab": {
          "base_uri": "https://localhost:8080/"
        },
        "id": "GFll09ire3lH",
        "outputId": "59a0fa69-1f28-40d8-d90e-448667ef8e20"
      },
      "outputs": [
        {
          "output_type": "execute_result",
          "data": {
            "text/plain": [
              "(128, 28, 28, 1)"
            ]
          },
          "metadata": {},
          "execution_count": 9
        }
      ],
      "source": [
        "df.as_numpy_iterator().next().shape"
      ]
    },
    {
      "cell_type": "markdown",
      "metadata": {
        "id": "L6Jqfmiye3lH"
      },
      "source": [
        "# Building the models"
      ]
    },
    {
      "cell_type": "code",
      "execution_count": 10,
      "metadata": {
        "id": "Z_CVVoype3lH"
      },
      "outputs": [],
      "source": [
        "from tensorflow.keras.models import Sequential\n",
        "from tensorflow.keras.layers import Convolution2D,LeakyReLU,Dropout,Dense,Flatten,UpSampling2D,Reshape"
      ]
    },
    {
      "cell_type": "markdown",
      "metadata": {
        "id": "YU3h_Nh2e3lH"
      },
      "source": [
        "### Building a Generator"
      ]
    },
    {
      "cell_type": "code",
      "execution_count": 11,
      "metadata": {
        "id": "x_ZfCRmXe3lH"
      },
      "outputs": [],
      "source": [
        "def build_generator():\n",
        "    model = Sequential()\n",
        "\n",
        "    # Beginnings of a generated image\n",
        "    model.add(Dense(7*7*128,input_dim=128))\n",
        "    model.add(LeakyReLU(0.2))\n",
        "    model.add(Reshape((7,7,128)))\n",
        "\n",
        "    # Up sampling block 1\n",
        "    model.add(UpSampling2D())\n",
        "    model.add(Convolution2D(128,5,padding='same'))\n",
        "    model.add(LeakyReLU(0.2))\n",
        "\n",
        "    # Up sampling block 2\n",
        "    model.add(UpSampling2D())\n",
        "    model.add(Convolution2D(128,5,padding='same'))\n",
        "    model.add(LeakyReLU(0.2))\n",
        "\n",
        "    # Convolutional Block 1\n",
        "    model.add(Convolution2D(128,4,padding='same'))\n",
        "    model.add(LeakyReLU(0.2))\n",
        "\n",
        "    # Convolutional Block 2\n",
        "    model.add(Convolution2D(128,4,padding='same'))\n",
        "    model.add(LeakyReLU(0.2))\n",
        "\n",
        "    # Conv layer to get one channel\n",
        "    model.add(Convolution2D(1,4,padding='same',activation='sigmoid'))\n",
        "\n",
        "    return model"
      ]
    },
    {
      "cell_type": "code",
      "execution_count": 12,
      "metadata": {
        "colab": {
          "base_uri": "https://localhost:8080/",
          "height": 650
        },
        "id": "I0h0rafWe3lH",
        "outputId": "22519935-ade0-4829-bdb6-e6286ea6da57"
      },
      "outputs": [
        {
          "output_type": "stream",
          "name": "stderr",
          "text": [
            "/usr/local/lib/python3.10/dist-packages/keras/src/layers/core/dense.py:87: UserWarning: Do not pass an `input_shape`/`input_dim` argument to a layer. When using Sequential models, prefer using an `Input(shape)` object as the first layer in the model instead.\n",
            "  super().__init__(activity_regularizer=activity_regularizer, **kwargs)\n"
          ]
        },
        {
          "output_type": "display_data",
          "data": {
            "text/plain": [
              "\u001b[1mModel: \"sequential\"\u001b[0m\n"
            ],
            "text/html": [
              "<pre style=\"white-space:pre;overflow-x:auto;line-height:normal;font-family:Menlo,'DejaVu Sans Mono',consolas,'Courier New',monospace\"><span style=\"font-weight: bold\">Model: \"sequential\"</span>\n",
              "</pre>\n"
            ]
          },
          "metadata": {}
        },
        {
          "output_type": "display_data",
          "data": {
            "text/plain": [
              "┏━━━━━━━━━━━━━━━━━━━━━━━━━━━━━━━━━━━━━━┳━━━━━━━━━━━━━━━━━━━━━━━━━━━━━┳━━━━━━━━━━━━━━━━━┓\n",
              "┃\u001b[1m \u001b[0m\u001b[1mLayer (type)                        \u001b[0m\u001b[1m \u001b[0m┃\u001b[1m \u001b[0m\u001b[1mOutput Shape               \u001b[0m\u001b[1m \u001b[0m┃\u001b[1m \u001b[0m\u001b[1m        Param #\u001b[0m\u001b[1m \u001b[0m┃\n",
              "┡━━━━━━━━━━━━━━━━━━━━━━━━━━━━━━━━━━━━━━╇━━━━━━━━━━━━━━━━━━━━━━━━━━━━━╇━━━━━━━━━━━━━━━━━┩\n",
              "│ dense (\u001b[38;5;33mDense\u001b[0m)                        │ (\u001b[38;5;45mNone\u001b[0m, \u001b[38;5;34m6272\u001b[0m)                │         \u001b[38;5;34m809,088\u001b[0m │\n",
              "├──────────────────────────────────────┼─────────────────────────────┼─────────────────┤\n",
              "│ leaky_re_lu (\u001b[38;5;33mLeakyReLU\u001b[0m)              │ (\u001b[38;5;45mNone\u001b[0m, \u001b[38;5;34m6272\u001b[0m)                │               \u001b[38;5;34m0\u001b[0m │\n",
              "├──────────────────────────────────────┼─────────────────────────────┼─────────────────┤\n",
              "│ reshape (\u001b[38;5;33mReshape\u001b[0m)                    │ (\u001b[38;5;45mNone\u001b[0m, \u001b[38;5;34m7\u001b[0m, \u001b[38;5;34m7\u001b[0m, \u001b[38;5;34m128\u001b[0m)           │               \u001b[38;5;34m0\u001b[0m │\n",
              "├──────────────────────────────────────┼─────────────────────────────┼─────────────────┤\n",
              "│ up_sampling2d (\u001b[38;5;33mUpSampling2D\u001b[0m)         │ (\u001b[38;5;45mNone\u001b[0m, \u001b[38;5;34m14\u001b[0m, \u001b[38;5;34m14\u001b[0m, \u001b[38;5;34m128\u001b[0m)         │               \u001b[38;5;34m0\u001b[0m │\n",
              "├──────────────────────────────────────┼─────────────────────────────┼─────────────────┤\n",
              "│ conv2d (\u001b[38;5;33mConv2D\u001b[0m)                      │ (\u001b[38;5;45mNone\u001b[0m, \u001b[38;5;34m14\u001b[0m, \u001b[38;5;34m14\u001b[0m, \u001b[38;5;34m128\u001b[0m)         │         \u001b[38;5;34m409,728\u001b[0m │\n",
              "├──────────────────────────────────────┼─────────────────────────────┼─────────────────┤\n",
              "│ leaky_re_lu_1 (\u001b[38;5;33mLeakyReLU\u001b[0m)            │ (\u001b[38;5;45mNone\u001b[0m, \u001b[38;5;34m14\u001b[0m, \u001b[38;5;34m14\u001b[0m, \u001b[38;5;34m128\u001b[0m)         │               \u001b[38;5;34m0\u001b[0m │\n",
              "├──────────────────────────────────────┼─────────────────────────────┼─────────────────┤\n",
              "│ up_sampling2d_1 (\u001b[38;5;33mUpSampling2D\u001b[0m)       │ (\u001b[38;5;45mNone\u001b[0m, \u001b[38;5;34m28\u001b[0m, \u001b[38;5;34m28\u001b[0m, \u001b[38;5;34m128\u001b[0m)         │               \u001b[38;5;34m0\u001b[0m │\n",
              "├──────────────────────────────────────┼─────────────────────────────┼─────────────────┤\n",
              "│ conv2d_1 (\u001b[38;5;33mConv2D\u001b[0m)                    │ (\u001b[38;5;45mNone\u001b[0m, \u001b[38;5;34m28\u001b[0m, \u001b[38;5;34m28\u001b[0m, \u001b[38;5;34m128\u001b[0m)         │         \u001b[38;5;34m409,728\u001b[0m │\n",
              "├──────────────────────────────────────┼─────────────────────────────┼─────────────────┤\n",
              "│ leaky_re_lu_2 (\u001b[38;5;33mLeakyReLU\u001b[0m)            │ (\u001b[38;5;45mNone\u001b[0m, \u001b[38;5;34m28\u001b[0m, \u001b[38;5;34m28\u001b[0m, \u001b[38;5;34m128\u001b[0m)         │               \u001b[38;5;34m0\u001b[0m │\n",
              "├──────────────────────────────────────┼─────────────────────────────┼─────────────────┤\n",
              "│ conv2d_2 (\u001b[38;5;33mConv2D\u001b[0m)                    │ (\u001b[38;5;45mNone\u001b[0m, \u001b[38;5;34m28\u001b[0m, \u001b[38;5;34m28\u001b[0m, \u001b[38;5;34m128\u001b[0m)         │         \u001b[38;5;34m262,272\u001b[0m │\n",
              "├──────────────────────────────────────┼─────────────────────────────┼─────────────────┤\n",
              "│ leaky_re_lu_3 (\u001b[38;5;33mLeakyReLU\u001b[0m)            │ (\u001b[38;5;45mNone\u001b[0m, \u001b[38;5;34m28\u001b[0m, \u001b[38;5;34m28\u001b[0m, \u001b[38;5;34m128\u001b[0m)         │               \u001b[38;5;34m0\u001b[0m │\n",
              "├──────────────────────────────────────┼─────────────────────────────┼─────────────────┤\n",
              "│ conv2d_3 (\u001b[38;5;33mConv2D\u001b[0m)                    │ (\u001b[38;5;45mNone\u001b[0m, \u001b[38;5;34m28\u001b[0m, \u001b[38;5;34m28\u001b[0m, \u001b[38;5;34m128\u001b[0m)         │         \u001b[38;5;34m262,272\u001b[0m │\n",
              "├──────────────────────────────────────┼─────────────────────────────┼─────────────────┤\n",
              "│ leaky_re_lu_4 (\u001b[38;5;33mLeakyReLU\u001b[0m)            │ (\u001b[38;5;45mNone\u001b[0m, \u001b[38;5;34m28\u001b[0m, \u001b[38;5;34m28\u001b[0m, \u001b[38;5;34m128\u001b[0m)         │               \u001b[38;5;34m0\u001b[0m │\n",
              "├──────────────────────────────────────┼─────────────────────────────┼─────────────────┤\n",
              "│ conv2d_4 (\u001b[38;5;33mConv2D\u001b[0m)                    │ (\u001b[38;5;45mNone\u001b[0m, \u001b[38;5;34m28\u001b[0m, \u001b[38;5;34m28\u001b[0m, \u001b[38;5;34m1\u001b[0m)           │           \u001b[38;5;34m2,049\u001b[0m │\n",
              "└──────────────────────────────────────┴─────────────────────────────┴─────────────────┘\n"
            ],
            "text/html": [
              "<pre style=\"white-space:pre;overflow-x:auto;line-height:normal;font-family:Menlo,'DejaVu Sans Mono',consolas,'Courier New',monospace\">┏━━━━━━━━━━━━━━━━━━━━━━━━━━━━━━━━━━━━━━┳━━━━━━━━━━━━━━━━━━━━━━━━━━━━━┳━━━━━━━━━━━━━━━━━┓\n",
              "┃<span style=\"font-weight: bold\"> Layer (type)                         </span>┃<span style=\"font-weight: bold\"> Output Shape                </span>┃<span style=\"font-weight: bold\">         Param # </span>┃\n",
              "┡━━━━━━━━━━━━━━━━━━━━━━━━━━━━━━━━━━━━━━╇━━━━━━━━━━━━━━━━━━━━━━━━━━━━━╇━━━━━━━━━━━━━━━━━┩\n",
              "│ dense (<span style=\"color: #0087ff; text-decoration-color: #0087ff\">Dense</span>)                        │ (<span style=\"color: #00d7ff; text-decoration-color: #00d7ff\">None</span>, <span style=\"color: #00af00; text-decoration-color: #00af00\">6272</span>)                │         <span style=\"color: #00af00; text-decoration-color: #00af00\">809,088</span> │\n",
              "├──────────────────────────────────────┼─────────────────────────────┼─────────────────┤\n",
              "│ leaky_re_lu (<span style=\"color: #0087ff; text-decoration-color: #0087ff\">LeakyReLU</span>)              │ (<span style=\"color: #00d7ff; text-decoration-color: #00d7ff\">None</span>, <span style=\"color: #00af00; text-decoration-color: #00af00\">6272</span>)                │               <span style=\"color: #00af00; text-decoration-color: #00af00\">0</span> │\n",
              "├──────────────────────────────────────┼─────────────────────────────┼─────────────────┤\n",
              "│ reshape (<span style=\"color: #0087ff; text-decoration-color: #0087ff\">Reshape</span>)                    │ (<span style=\"color: #00d7ff; text-decoration-color: #00d7ff\">None</span>, <span style=\"color: #00af00; text-decoration-color: #00af00\">7</span>, <span style=\"color: #00af00; text-decoration-color: #00af00\">7</span>, <span style=\"color: #00af00; text-decoration-color: #00af00\">128</span>)           │               <span style=\"color: #00af00; text-decoration-color: #00af00\">0</span> │\n",
              "├──────────────────────────────────────┼─────────────────────────────┼─────────────────┤\n",
              "│ up_sampling2d (<span style=\"color: #0087ff; text-decoration-color: #0087ff\">UpSampling2D</span>)         │ (<span style=\"color: #00d7ff; text-decoration-color: #00d7ff\">None</span>, <span style=\"color: #00af00; text-decoration-color: #00af00\">14</span>, <span style=\"color: #00af00; text-decoration-color: #00af00\">14</span>, <span style=\"color: #00af00; text-decoration-color: #00af00\">128</span>)         │               <span style=\"color: #00af00; text-decoration-color: #00af00\">0</span> │\n",
              "├──────────────────────────────────────┼─────────────────────────────┼─────────────────┤\n",
              "│ conv2d (<span style=\"color: #0087ff; text-decoration-color: #0087ff\">Conv2D</span>)                      │ (<span style=\"color: #00d7ff; text-decoration-color: #00d7ff\">None</span>, <span style=\"color: #00af00; text-decoration-color: #00af00\">14</span>, <span style=\"color: #00af00; text-decoration-color: #00af00\">14</span>, <span style=\"color: #00af00; text-decoration-color: #00af00\">128</span>)         │         <span style=\"color: #00af00; text-decoration-color: #00af00\">409,728</span> │\n",
              "├──────────────────────────────────────┼─────────────────────────────┼─────────────────┤\n",
              "│ leaky_re_lu_1 (<span style=\"color: #0087ff; text-decoration-color: #0087ff\">LeakyReLU</span>)            │ (<span style=\"color: #00d7ff; text-decoration-color: #00d7ff\">None</span>, <span style=\"color: #00af00; text-decoration-color: #00af00\">14</span>, <span style=\"color: #00af00; text-decoration-color: #00af00\">14</span>, <span style=\"color: #00af00; text-decoration-color: #00af00\">128</span>)         │               <span style=\"color: #00af00; text-decoration-color: #00af00\">0</span> │\n",
              "├──────────────────────────────────────┼─────────────────────────────┼─────────────────┤\n",
              "│ up_sampling2d_1 (<span style=\"color: #0087ff; text-decoration-color: #0087ff\">UpSampling2D</span>)       │ (<span style=\"color: #00d7ff; text-decoration-color: #00d7ff\">None</span>, <span style=\"color: #00af00; text-decoration-color: #00af00\">28</span>, <span style=\"color: #00af00; text-decoration-color: #00af00\">28</span>, <span style=\"color: #00af00; text-decoration-color: #00af00\">128</span>)         │               <span style=\"color: #00af00; text-decoration-color: #00af00\">0</span> │\n",
              "├──────────────────────────────────────┼─────────────────────────────┼─────────────────┤\n",
              "│ conv2d_1 (<span style=\"color: #0087ff; text-decoration-color: #0087ff\">Conv2D</span>)                    │ (<span style=\"color: #00d7ff; text-decoration-color: #00d7ff\">None</span>, <span style=\"color: #00af00; text-decoration-color: #00af00\">28</span>, <span style=\"color: #00af00; text-decoration-color: #00af00\">28</span>, <span style=\"color: #00af00; text-decoration-color: #00af00\">128</span>)         │         <span style=\"color: #00af00; text-decoration-color: #00af00\">409,728</span> │\n",
              "├──────────────────────────────────────┼─────────────────────────────┼─────────────────┤\n",
              "│ leaky_re_lu_2 (<span style=\"color: #0087ff; text-decoration-color: #0087ff\">LeakyReLU</span>)            │ (<span style=\"color: #00d7ff; text-decoration-color: #00d7ff\">None</span>, <span style=\"color: #00af00; text-decoration-color: #00af00\">28</span>, <span style=\"color: #00af00; text-decoration-color: #00af00\">28</span>, <span style=\"color: #00af00; text-decoration-color: #00af00\">128</span>)         │               <span style=\"color: #00af00; text-decoration-color: #00af00\">0</span> │\n",
              "├──────────────────────────────────────┼─────────────────────────────┼─────────────────┤\n",
              "│ conv2d_2 (<span style=\"color: #0087ff; text-decoration-color: #0087ff\">Conv2D</span>)                    │ (<span style=\"color: #00d7ff; text-decoration-color: #00d7ff\">None</span>, <span style=\"color: #00af00; text-decoration-color: #00af00\">28</span>, <span style=\"color: #00af00; text-decoration-color: #00af00\">28</span>, <span style=\"color: #00af00; text-decoration-color: #00af00\">128</span>)         │         <span style=\"color: #00af00; text-decoration-color: #00af00\">262,272</span> │\n",
              "├──────────────────────────────────────┼─────────────────────────────┼─────────────────┤\n",
              "│ leaky_re_lu_3 (<span style=\"color: #0087ff; text-decoration-color: #0087ff\">LeakyReLU</span>)            │ (<span style=\"color: #00d7ff; text-decoration-color: #00d7ff\">None</span>, <span style=\"color: #00af00; text-decoration-color: #00af00\">28</span>, <span style=\"color: #00af00; text-decoration-color: #00af00\">28</span>, <span style=\"color: #00af00; text-decoration-color: #00af00\">128</span>)         │               <span style=\"color: #00af00; text-decoration-color: #00af00\">0</span> │\n",
              "├──────────────────────────────────────┼─────────────────────────────┼─────────────────┤\n",
              "│ conv2d_3 (<span style=\"color: #0087ff; text-decoration-color: #0087ff\">Conv2D</span>)                    │ (<span style=\"color: #00d7ff; text-decoration-color: #00d7ff\">None</span>, <span style=\"color: #00af00; text-decoration-color: #00af00\">28</span>, <span style=\"color: #00af00; text-decoration-color: #00af00\">28</span>, <span style=\"color: #00af00; text-decoration-color: #00af00\">128</span>)         │         <span style=\"color: #00af00; text-decoration-color: #00af00\">262,272</span> │\n",
              "├──────────────────────────────────────┼─────────────────────────────┼─────────────────┤\n",
              "│ leaky_re_lu_4 (<span style=\"color: #0087ff; text-decoration-color: #0087ff\">LeakyReLU</span>)            │ (<span style=\"color: #00d7ff; text-decoration-color: #00d7ff\">None</span>, <span style=\"color: #00af00; text-decoration-color: #00af00\">28</span>, <span style=\"color: #00af00; text-decoration-color: #00af00\">28</span>, <span style=\"color: #00af00; text-decoration-color: #00af00\">128</span>)         │               <span style=\"color: #00af00; text-decoration-color: #00af00\">0</span> │\n",
              "├──────────────────────────────────────┼─────────────────────────────┼─────────────────┤\n",
              "│ conv2d_4 (<span style=\"color: #0087ff; text-decoration-color: #0087ff\">Conv2D</span>)                    │ (<span style=\"color: #00d7ff; text-decoration-color: #00d7ff\">None</span>, <span style=\"color: #00af00; text-decoration-color: #00af00\">28</span>, <span style=\"color: #00af00; text-decoration-color: #00af00\">28</span>, <span style=\"color: #00af00; text-decoration-color: #00af00\">1</span>)           │           <span style=\"color: #00af00; text-decoration-color: #00af00\">2,049</span> │\n",
              "└──────────────────────────────────────┴─────────────────────────────┴─────────────────┘\n",
              "</pre>\n"
            ]
          },
          "metadata": {}
        },
        {
          "output_type": "display_data",
          "data": {
            "text/plain": [
              "\u001b[1m Total params: \u001b[0m\u001b[38;5;34m2,155,137\u001b[0m (8.22 MB)\n"
            ],
            "text/html": [
              "<pre style=\"white-space:pre;overflow-x:auto;line-height:normal;font-family:Menlo,'DejaVu Sans Mono',consolas,'Courier New',monospace\"><span style=\"font-weight: bold\"> Total params: </span><span style=\"color: #00af00; text-decoration-color: #00af00\">2,155,137</span> (8.22 MB)\n",
              "</pre>\n"
            ]
          },
          "metadata": {}
        },
        {
          "output_type": "display_data",
          "data": {
            "text/plain": [
              "\u001b[1m Trainable params: \u001b[0m\u001b[38;5;34m2,155,137\u001b[0m (8.22 MB)\n"
            ],
            "text/html": [
              "<pre style=\"white-space:pre;overflow-x:auto;line-height:normal;font-family:Menlo,'DejaVu Sans Mono',consolas,'Courier New',monospace\"><span style=\"font-weight: bold\"> Trainable params: </span><span style=\"color: #00af00; text-decoration-color: #00af00\">2,155,137</span> (8.22 MB)\n",
              "</pre>\n"
            ]
          },
          "metadata": {}
        },
        {
          "output_type": "display_data",
          "data": {
            "text/plain": [
              "\u001b[1m Non-trainable params: \u001b[0m\u001b[38;5;34m0\u001b[0m (0.00 B)\n"
            ],
            "text/html": [
              "<pre style=\"white-space:pre;overflow-x:auto;line-height:normal;font-family:Menlo,'DejaVu Sans Mono',consolas,'Courier New',monospace\"><span style=\"font-weight: bold\"> Non-trainable params: </span><span style=\"color: #00af00; text-decoration-color: #00af00\">0</span> (0.00 B)\n",
              "</pre>\n"
            ]
          },
          "metadata": {}
        }
      ],
      "source": [
        "generator = build_generator()\n",
        "generator.summary()"
      ]
    },
    {
      "cell_type": "code",
      "execution_count": 13,
      "metadata": {
        "colab": {
          "base_uri": "https://localhost:8080/",
          "height": 299
        },
        "id": "gh0Oim46e3lH",
        "outputId": "ad32cbd5-d226-481a-93af-6fd1a42f240c"
      },
      "outputs": [
        {
          "output_type": "stream",
          "name": "stdout",
          "text": [
            "\u001b[1m1/1\u001b[0m \u001b[32m━━━━━━━━━━━━━━━━━━━━\u001b[0m\u001b[37m\u001b[0m \u001b[1m1s\u001b[0m 1s/step\n"
          ]
        },
        {
          "output_type": "display_data",
          "data": {
            "text/plain": [
              "<Figure size 2000x2000 with 4 Axes>"
            ],
            "image/png": "[encoded data removed]"
          },
          "metadata": {}
        }
      ],
      "source": [
        "img = generator.predict(np.random.randn(4,128,1))\n",
        "fig,ax = plt.subplots(ncols=4,figsize=(20,20))\n",
        "for idx,img in enumerate(img):\n",
        "    ax[idx].imshow(np.squeeze(img))\n",
        "    ax[idx].title.set_text(idx)"
      ]
    },
    {
      "cell_type": "markdown",
      "metadata": {
        "id": "9ihF2zXHe3lI"
      },
      "source": [
        "### Building Discriminator"
      ]
    },
    {
      "cell_type": "code",
      "execution_count": 14,
      "metadata": {
        "id": "DhXGCGgme3lI"
      },
      "outputs": [],
      "source": [
        "def build_discriminator():\n",
        "    model = Sequential()\n",
        "\n",
        "    # First conv block\n",
        "    model.add(Convolution2D(32,5,input_shape=(28,28,1)))\n",
        "    model.add(LeakyReLU(0.2))\n",
        "    model.add(Dropout(0.4))\n",
        "\n",
        "    # Second conv block\n",
        "    model.add(Convolution2D(64,5))\n",
        "    model.add(LeakyReLU(0.2))\n",
        "    model.add(Dropout(0.4))\n",
        "\n",
        "    # Third conv block\n",
        "    model.add(Convolution2D(128,5))\n",
        "    model.add(LeakyReLU(0.2))\n",
        "    model.add(Dropout(0.4))\n",
        "\n",
        "    # Fourth conv block\n",
        "    model.add(Convolution2D(256,5))\n",
        "    model.add(LeakyReLU(0.2))\n",
        "    model.add(Dropout(0.4))\n",
        "\n",
        "    # flatten and pass through dense\n",
        "    model.add(Flatten())\n",
        "    model.add(Dropout(0.4))\n",
        "    model.add(Dense(1,activation='sigmoid'))\n",
        "\n",
        "    return model"
      ]
    },
    {
      "cell_type": "code",
      "execution_count": 15,
      "metadata": {
        "colab": {
          "base_uri": "https://localhost:8080/",
          "height": 683
        },
        "id": "PJu3RO7De3lI",
        "outputId": "1384c0cb-52d5-45ae-d476-c47f72767e8b"
      },
      "outputs": [
        {
          "output_type": "stream",
          "name": "stderr",
          "text": [
            "/usr/local/lib/python3.10/dist-packages/keras/src/layers/convolutional/base_conv.py:107: UserWarning: Do not pass an `input_shape`/`input_dim` argument to a layer. When using Sequential models, prefer using an `Input(shape)` object as the first layer in the model instead.\n",
            "  super().__init__(activity_regularizer=activity_regularizer, **kwargs)\n"
          ]
        },
        {
          "output_type": "display_data",
          "data": {
            "text/plain": [
              "\u001b[1mModel: \"sequential_1\"\u001b[0m\n"
            ],
            "text/html": [
              "<pre style=\"white-space:pre;overflow-x:auto;line-height:normal;font-family:Menlo,'DejaVu Sans Mono',consolas,'Courier New',monospace\"><span style=\"font-weight: bold\">Model: \"sequential_1\"</span>\n",
              "</pre>\n"
            ]
          },
          "metadata": {}
        },
        {
          "output_type": "display_data",
          "data": {
            "text/plain": [
              "┏━━━━━━━━━━━━━━━━━━━━━━━━━━━━━━━━━━━━━━┳━━━━━━━━━━━━━━━━━━━━━━━━━━━━━┳━━━━━━━━━━━━━━━━━┓\n",
              "┃\u001b[1m \u001b[0m\u001b[1mLayer (type)                        \u001b[0m\u001b[1m \u001b[0m┃\u001b[1m \u001b[0m\u001b[1mOutput Shape               \u001b[0m\u001b[1m \u001b[0m┃\u001b[1m \u001b[0m\u001b[1m        Param #\u001b[0m\u001b[1m \u001b[0m┃\n",
              "┡━━━━━━━━━━━━━━━━━━━━━━━━━━━━━━━━━━━━━━╇━━━━━━━━━━━━━━━━━━━━━━━━━━━━━╇━━━━━━━━━━━━━━━━━┩\n",
              "│ conv2d_5 (\u001b[38;5;33mConv2D\u001b[0m)                    │ (\u001b[38;5;45mNone\u001b[0m, \u001b[38;5;34m24\u001b[0m, \u001b[38;5;34m24\u001b[0m, \u001b[38;5;34m32\u001b[0m)          │             \u001b[38;5;34m832\u001b[0m │\n",
              "├──────────────────────────────────────┼─────────────────────────────┼─────────────────┤\n",
              "│ leaky_re_lu_5 (\u001b[38;5;33mLeakyReLU\u001b[0m)            │ (\u001b[38;5;45mNone\u001b[0m, \u001b[38;5;34m24\u001b[0m, \u001b[38;5;34m24\u001b[0m, \u001b[38;5;34m32\u001b[0m)          │               \u001b[38;5;34m0\u001b[0m │\n",
              "├──────────────────────────────────────┼─────────────────────────────┼─────────────────┤\n",
              "│ dropout (\u001b[38;5;33mDropout\u001b[0m)                    │ (\u001b[38;5;45mNone\u001b[0m, \u001b[38;5;34m24\u001b[0m, \u001b[38;5;34m24\u001b[0m, \u001b[38;5;34m32\u001b[0m)          │               \u001b[38;5;34m0\u001b[0m │\n",
              "├──────────────────────────────────────┼─────────────────────────────┼─────────────────┤\n",
              "│ conv2d_6 (\u001b[38;5;33mConv2D\u001b[0m)                    │ (\u001b[38;5;45mNone\u001b[0m, \u001b[38;5;34m20\u001b[0m, \u001b[38;5;34m20\u001b[0m, \u001b[38;5;34m64\u001b[0m)          │          \u001b[38;5;34m51,264\u001b[0m │\n",
              "├──────────────────────────────────────┼─────────────────────────────┼─────────────────┤\n",
              "│ leaky_re_lu_6 (\u001b[38;5;33mLeakyReLU\u001b[0m)            │ (\u001b[38;5;45mNone\u001b[0m, \u001b[38;5;34m20\u001b[0m, \u001b[38;5;34m20\u001b[0m, \u001b[38;5;34m64\u001b[0m)          │               \u001b[38;5;34m0\u001b[0m │\n",
              "├──────────────────────────────────────┼─────────────────────────────┼─────────────────┤\n",
              "│ dropout_1 (\u001b[38;5;33mDropout\u001b[0m)                  │ (\u001b[38;5;45mNone\u001b[0m, \u001b[38;5;34m20\u001b[0m, \u001b[38;5;34m20\u001b[0m, \u001b[38;5;34m64\u001b[0m)          │               \u001b[38;5;34m0\u001b[0m │\n",
              "├──────────────────────────────────────┼─────────────────────────────┼─────────────────┤\n",
              "│ conv2d_7 (\u001b[38;5;33mConv2D\u001b[0m)                    │ (\u001b[38;5;45mNone\u001b[0m, \u001b[38;5;34m16\u001b[0m, \u001b[38;5;34m16\u001b[0m, \u001b[38;5;34m128\u001b[0m)         │         \u001b[38;5;34m204,928\u001b[0m │\n",
              "├──────────────────────────────────────┼─────────────────────────────┼─────────────────┤\n",
              "│ leaky_re_lu_7 (\u001b[38;5;33mLeakyReLU\u001b[0m)            │ (\u001b[38;5;45mNone\u001b[0m, \u001b[38;5;34m16\u001b[0m, \u001b[38;5;34m16\u001b[0m, \u001b[38;5;34m128\u001b[0m)         │               \u001b[38;5;34m0\u001b[0m │\n",
              "├──────────────────────────────────────┼─────────────────────────────┼─────────────────┤\n",
              "│ dropout_2 (\u001b[38;5;33mDropout\u001b[0m)                  │ (\u001b[38;5;45mNone\u001b[0m, \u001b[38;5;34m16\u001b[0m, \u001b[38;5;34m16\u001b[0m, \u001b[38;5;34m128\u001b[0m)         │               \u001b[38;5;34m0\u001b[0m │\n",
              "├──────────────────────────────────────┼─────────────────────────────┼─────────────────┤\n",
              "│ conv2d_8 (\u001b[38;5;33mConv2D\u001b[0m)                    │ (\u001b[38;5;45mNone\u001b[0m, \u001b[38;5;34m12\u001b[0m, \u001b[38;5;34m12\u001b[0m, \u001b[38;5;34m256\u001b[0m)         │         \u001b[38;5;34m819,456\u001b[0m │\n",
              "├──────────────────────────────────────┼─────────────────────────────┼─────────────────┤\n",
              "│ leaky_re_lu_8 (\u001b[38;5;33mLeakyReLU\u001b[0m)            │ (\u001b[38;5;45mNone\u001b[0m, \u001b[38;5;34m12\u001b[0m, \u001b[38;5;34m12\u001b[0m, \u001b[38;5;34m256\u001b[0m)         │               \u001b[38;5;34m0\u001b[0m │\n",
              "├──────────────────────────────────────┼─────────────────────────────┼─────────────────┤\n",
              "│ dropout_3 (\u001b[38;5;33mDropout\u001b[0m)                  │ (\u001b[38;5;45mNone\u001b[0m, \u001b[38;5;34m12\u001b[0m, \u001b[38;5;34m12\u001b[0m, \u001b[38;5;34m256\u001b[0m)         │               \u001b[38;5;34m0\u001b[0m │\n",
              "├──────────────────────────────────────┼─────────────────────────────┼─────────────────┤\n",
              "│ flatten (\u001b[38;5;33mFlatten\u001b[0m)                    │ (\u001b[38;5;45mNone\u001b[0m, \u001b[38;5;34m36864\u001b[0m)               │               \u001b[38;5;34m0\u001b[0m │\n",
              "├──────────────────────────────────────┼─────────────────────────────┼─────────────────┤\n",
              "│ dropout_4 (\u001b[38;5;33mDropout\u001b[0m)                  │ (\u001b[38;5;45mNone\u001b[0m, \u001b[38;5;34m36864\u001b[0m)               │               \u001b[38;5;34m0\u001b[0m │\n",
              "├──────────────────────────────────────┼─────────────────────────────┼─────────────────┤\n",
              "│ dense_1 (\u001b[38;5;33mDense\u001b[0m)                      │ (\u001b[38;5;45mNone\u001b[0m, \u001b[38;5;34m1\u001b[0m)                   │          \u001b[38;5;34m36,865\u001b[0m │\n",
              "└──────────────────────────────────────┴─────────────────────────────┴─────────────────┘\n"
            ],
            "text/html": [
              "<pre style=\"white-space:pre;overflow-x:auto;line-height:normal;font-family:Menlo,'DejaVu Sans Mono',consolas,'Courier New',monospace\">┏━━━━━━━━━━━━━━━━━━━━━━━━━━━━━━━━━━━━━━┳━━━━━━━━━━━━━━━━━━━━━━━━━━━━━┳━━━━━━━━━━━━━━━━━┓\n",
              "┃<span style=\"font-weight: bold\"> Layer (type)                         </span>┃<span style=\"font-weight: bold\"> Output Shape                </span>┃<span style=\"font-weight: bold\">         Param # </span>┃\n",
              "┡━━━━━━━━━━━━━━━━━━━━━━━━━━━━━━━━━━━━━━╇━━━━━━━━━━━━━━━━━━━━━━━━━━━━━╇━━━━━━━━━━━━━━━━━┩\n",
              "│ conv2d_5 (<span style=\"color: #0087ff; text-decoration-color: #0087ff\">Conv2D</span>)                    │ (<span style=\"color: #00d7ff; text-decoration-color: #00d7ff\">None</span>, <span style=\"color: #00af00; text-decoration-color: #00af00\">24</span>, <span style=\"color: #00af00; text-decoration-color: #00af00\">24</span>, <span style=\"color: #00af00; text-decoration-color: #00af00\">32</span>)          │             <span style=\"color: #00af00; text-decoration-color: #00af00\">832</span> │\n",
              "├──────────────────────────────────────┼─────────────────────────────┼─────────────────┤\n",
              "│ leaky_re_lu_5 (<span style=\"color: #0087ff; text-decoration-color: #0087ff\">LeakyReLU</span>)            │ (<span style=\"color: #00d7ff; text-decoration-color: #00d7ff\">None</span>, <span style=\"color: #00af00; text-decoration-color: #00af00\">24</span>, <span style=\"color: #00af00; text-decoration-color: #00af00\">24</span>, <span style=\"color: #00af00; text-decoration-color: #00af00\">32</span>)          │               <span style=\"color: #00af00; text-decoration-color: #00af00\">0</span> │\n",
              "├──────────────────────────────────────┼─────────────────────────────┼─────────────────┤\n",
              "│ dropout (<span style=\"color: #0087ff; text-decoration-color: #0087ff\">Dropout</span>)                    │ (<span style=\"color: #00d7ff; text-decoration-color: #00d7ff\">None</span>, <span style=\"color: #00af00; text-decoration-color: #00af00\">24</span>, <span style=\"color: #00af00; text-decoration-color: #00af00\">24</span>, <span style=\"color: #00af00; text-decoration-color: #00af00\">32</span>)          │               <span style=\"color: #00af00; text-decoration-color: #00af00\">0</span> │\n",
              "├──────────────────────────────────────┼─────────────────────────────┼─────────────────┤\n",
              "│ conv2d_6 (<span style=\"color: #0087ff; text-decoration-color: #0087ff\">Conv2D</span>)                    │ (<span style=\"color: #00d7ff; text-decoration-color: #00d7ff\">None</span>, <span style=\"color: #00af00; text-decoration-color: #00af00\">20</span>, <span style=\"color: #00af00; text-decoration-color: #00af00\">20</span>, <span style=\"color: #00af00; text-decoration-color: #00af00\">64</span>)          │          <span style=\"color: #00af00; text-decoration-color: #00af00\">51,264</span> │\n",
              "├──────────────────────────────────────┼─────────────────────────────┼─────────────────┤\n",
              "│ leaky_re_lu_6 (<span style=\"color: #0087ff; text-decoration-color: #0087ff\">LeakyReLU</span>)            │ (<span style=\"color: #00d7ff; text-decoration-color: #00d7ff\">None</span>, <span style=\"color: #00af00; text-decoration-color: #00af00\">20</span>, <span style=\"color: #00af00; text-decoration-color: #00af00\">20</span>, <span style=\"color: #00af00; text-decoration-color: #00af00\">64</span>)          │               <span style=\"color: #00af00; text-decoration-color: #00af00\">0</span> │\n",
              "├──────────────────────────────────────┼─────────────────────────────┼─────────────────┤\n",
              "│ dropout_1 (<span style=\"color: #0087ff; text-decoration-color: #0087ff\">Dropout</span>)                  │ (<span style=\"color: #00d7ff; text-decoration-color: #00d7ff\">None</span>, <span style=\"color: #00af00; text-decoration-color: #00af00\">20</span>, <span style=\"color: #00af00; text-decoration-color: #00af00\">20</span>, <span style=\"color: #00af00; text-decoration-color: #00af00\">64</span>)          │               <span style=\"color: #00af00; text-decoration-color: #00af00\">0</span> │\n",
              "├──────────────────────────────────────┼─────────────────────────────┼─────────────────┤\n",
              "│ conv2d_7 (<span style=\"color: #0087ff; text-decoration-color: #0087ff\">Conv2D</span>)                    │ (<span style=\"color: #00d7ff; text-decoration-color: #00d7ff\">None</span>, <span style=\"color: #00af00; text-decoration-color: #00af00\">16</span>, <span style=\"color: #00af00; text-decoration-color: #00af00\">16</span>, <span style=\"color: #00af00; text-decoration-color: #00af00\">128</span>)         │         <span style=\"color: #00af00; text-decoration-color: #00af00\">204,928</span> │\n",
              "├──────────────────────────────────────┼─────────────────────────────┼─────────────────┤\n",
              "│ leaky_re_lu_7 (<span style=\"color: #0087ff; text-decoration-color: #0087ff\">LeakyReLU</span>)            │ (<span style=\"color: #00d7ff; text-decoration-color: #00d7ff\">None</span>, <span style=\"color: #00af00; text-decoration-color: #00af00\">16</span>, <span style=\"color: #00af00; text-decoration-color: #00af00\">16</span>, <span style=\"color: #00af00; text-decoration-color: #00af00\">128</span>)         │               <span style=\"color: #00af00; text-decoration-color: #00af00\">0</span> │\n",
              "├──────────────────────────────────────┼─────────────────────────────┼─────────────────┤\n",
              "│ dropout_2 (<span style=\"color: #0087ff; text-decoration-color: #0087ff\">Dropout</span>)                  │ (<span style=\"color: #00d7ff; text-decoration-color: #00d7ff\">None</span>, <span style=\"color: #00af00; text-decoration-color: #00af00\">16</span>, <span style=\"color: #00af00; text-decoration-color: #00af00\">16</span>, <span style=\"color: #00af00; text-decoration-color: #00af00\">128</span>)         │               <span style=\"color: #00af00; text-decoration-color: #00af00\">0</span> │\n",
              "├──────────────────────────────────────┼─────────────────────────────┼─────────────────┤\n",
              "│ conv2d_8 (<span style=\"color: #0087ff; text-decoration-color: #0087ff\">Conv2D</span>)                    │ (<span style=\"color: #00d7ff; text-decoration-color: #00d7ff\">None</span>, <span style=\"color: #00af00; text-decoration-color: #00af00\">12</span>, <span style=\"color: #00af00; text-decoration-color: #00af00\">12</span>, <span style=\"color: #00af00; text-decoration-color: #00af00\">256</span>)         │         <span style=\"color: #00af00; text-decoration-color: #00af00\">819,456</span> │\n",
              "├──────────────────────────────────────┼─────────────────────────────┼─────────────────┤\n",
              "│ leaky_re_lu_8 (<span style=\"color: #0087ff; text-decoration-color: #0087ff\">LeakyReLU</span>)            │ (<span style=\"color: #00d7ff; text-decoration-color: #00d7ff\">None</span>, <span style=\"color: #00af00; text-decoration-color: #00af00\">12</span>, <span style=\"color: #00af00; text-decoration-color: #00af00\">12</span>, <span style=\"color: #00af00; text-decoration-color: #00af00\">256</span>)         │               <span style=\"color: #00af00; text-decoration-color: #00af00\">0</span> │\n",
              "├──────────────────────────────────────┼─────────────────────────────┼─────────────────┤\n",
              "│ dropout_3 (<span style=\"color: #0087ff; text-decoration-color: #0087ff\">Dropout</span>)                  │ (<span style=\"color: #00d7ff; text-decoration-color: #00d7ff\">None</span>, <span style=\"color: #00af00; text-decoration-color: #00af00\">12</span>, <span style=\"color: #00af00; text-decoration-color: #00af00\">12</span>, <span style=\"color: #00af00; text-decoration-color: #00af00\">256</span>)         │               <span style=\"color: #00af00; text-decoration-color: #00af00\">0</span> │\n",
              "├──────────────────────────────────────┼─────────────────────────────┼─────────────────┤\n",
              "│ flatten (<span style=\"color: #0087ff; text-decoration-color: #0087ff\">Flatten</span>)                    │ (<span style=\"color: #00d7ff; text-decoration-color: #00d7ff\">None</span>, <span style=\"color: #00af00; text-decoration-color: #00af00\">36864</span>)               │               <span style=\"color: #00af00; text-decoration-color: #00af00\">0</span> │\n",
              "├──────────────────────────────────────┼─────────────────────────────┼─────────────────┤\n",
              "│ dropout_4 (<span style=\"color: #0087ff; text-decoration-color: #0087ff\">Dropout</span>)                  │ (<span style=\"color: #00d7ff; text-decoration-color: #00d7ff\">None</span>, <span style=\"color: #00af00; text-decoration-color: #00af00\">36864</span>)               │               <span style=\"color: #00af00; text-decoration-color: #00af00\">0</span> │\n",
              "├──────────────────────────────────────┼─────────────────────────────┼─────────────────┤\n",
              "│ dense_1 (<span style=\"color: #0087ff; text-decoration-color: #0087ff\">Dense</span>)                      │ (<span style=\"color: #00d7ff; text-decoration-color: #00d7ff\">None</span>, <span style=\"color: #00af00; text-decoration-color: #00af00\">1</span>)                   │          <span style=\"color: #00af00; text-decoration-color: #00af00\">36,865</span> │\n",
              "└──────────────────────────────────────┴─────────────────────────────┴─────────────────┘\n",
              "</pre>\n"
            ]
          },
          "metadata": {}
        },
        {
          "output_type": "display_data",
          "data": {
            "text/plain": [
              "\u001b[1m Total params: \u001b[0m\u001b[38;5;34m1,113,345\u001b[0m (4.25 MB)\n"
            ],
            "text/html": [
              "<pre style=\"white-space:pre;overflow-x:auto;line-height:normal;font-family:Menlo,'DejaVu Sans Mono',consolas,'Courier New',monospace\"><span style=\"font-weight: bold\"> Total params: </span><span style=\"color: #00af00; text-decoration-color: #00af00\">1,113,345</span> (4.25 MB)\n",
              "</pre>\n"
            ]
          },
          "metadata": {}
        },
        {
          "output_type": "display_data",
          "data": {
            "text/plain": [
              "\u001b[1m Trainable params: \u001b[0m\u001b[38;5;34m1,113,345\u001b[0m (4.25 MB)\n"
            ],
            "text/html": [
              "<pre style=\"white-space:pre;overflow-x:auto;line-height:normal;font-family:Menlo,'DejaVu Sans Mono',consolas,'Courier New',monospace\"><span style=\"font-weight: bold\"> Trainable params: </span><span style=\"color: #00af00; text-decoration-color: #00af00\">1,113,345</span> (4.25 MB)\n",
              "</pre>\n"
            ]
          },
          "metadata": {}
        },
        {
          "output_type": "display_data",
          "data": {
            "text/plain": [
              "\u001b[1m Non-trainable params: \u001b[0m\u001b[38;5;34m0\u001b[0m (0.00 B)\n"
            ],
            "text/html": [
              "<pre style=\"white-space:pre;overflow-x:auto;line-height:normal;font-family:Menlo,'DejaVu Sans Mono',consolas,'Courier New',monospace\"><span style=\"font-weight: bold\"> Non-trainable params: </span><span style=\"color: #00af00; text-decoration-color: #00af00\">0</span> (0.00 B)\n",
              "</pre>\n"
            ]
          },
          "metadata": {}
        }
      ],
      "source": [
        "discriminator = build_discriminator()\n",
        "discriminator.summary()"
      ]
    },
    {
      "cell_type": "code",
      "execution_count": 16,
      "metadata": {
        "colab": {
          "base_uri": "https://localhost:8080/"
        },
        "id": "AFQDBHXke3lI",
        "outputId": "4a73d182-4386-42da-9d29-fb6e9b24340d"
      },
      "outputs": [
        {
          "output_type": "stream",
          "name": "stdout",
          "text": [
            "\u001b[1m1/1\u001b[0m \u001b[32m━━━━━━━━━━━━━━━━━━━━\u001b[0m\u001b[37m\u001b[0m \u001b[1m1s\u001b[0m 693ms/step\n"
          ]
        },
        {
          "output_type": "execute_result",
          "data": {
            "text/plain": [
              "array([[0.49802324]], dtype=float32)"
            ]
          },
          "metadata": {},
          "execution_count": 16
        }
      ],
      "source": [
        "discriminator.predict(np.expand_dims(img,0))"
      ]
    },
    {
      "cell_type": "markdown",
      "metadata": {
        "id": "szf2cSnpe3lI"
      },
      "source": [
        "# Constructing a training loop"
      ]
    },
    {
      "cell_type": "code",
      "execution_count": 17,
      "metadata": {
        "id": "WwCrWS6Je3lI"
      },
      "outputs": [],
      "source": [
        "from tensorflow.keras.losses import BinaryCrossentropy\n",
        "from tensorflow.keras.optimizers import Adam"
      ]
    },
    {
      "cell_type": "code",
      "execution_count": 18,
      "metadata": {
        "id": "GdY7NTDGe3lI"
      },
      "outputs": [],
      "source": [
        "g_opt = Adam(learning_rate=0.0001)\n",
        "d_opt = Adam(learning_rate=0.00001)\n",
        "g_loss = BinaryCrossentropy()\n",
        "d_loss = BinaryCrossentropy()"
      ]
    },
    {
      "cell_type": "code",
      "execution_count": 19,
      "metadata": {
        "id": "vkOK0-C3e3lI"
      },
      "outputs": [],
      "source": [
        "from tensorflow.keras.models import Model"
      ]
    },
    {
      "cell_type": "code",
      "execution_count": 20,
      "metadata": {
        "id": "wHUelpy8e3lI"
      },
      "outputs": [],
      "source": [
        "class GAN(Model):\n",
        "    def __init__(self,generator,discriminator,*args,**kwargs):\n",
        "        # Pass through args for our base class\n",
        "        super().__init__(*args,**kwargs)\n",
        "        # Create attributes for gen and disc\n",
        "        self.generator = generator\n",
        "        self.discriminator = discriminator\n",
        "\n",
        "    def compile(self,g_opt,d_opt,g_loss,d_loss,*args,**kwargs):\n",
        "        # Compile with base class\n",
        "        super().compile(*args,**kwargs)\n",
        "\n",
        "        # Create attributes\n",
        "        self.g_opt = g_opt\n",
        "        self.g_loss = g_loss\n",
        "        self.d_opt = d_opt\n",
        "        self.d_loss = d_loss\n",
        "\n",
        "    def train_step(self, batch):\n",
        "        # get the data\n",
        "        real_images =  batch\n",
        "        fake_images = generator(tf.random.normal((128,128,1)),training=False)\n",
        "\n",
        "        # Training discriminator\n",
        "        with tf.GradientTape() as d_tape:\n",
        "\n",
        "            # Pass the real and fake images to discrminator\n",
        "            yhat_real = self.discriminator(real_images,training=True)\n",
        "            yhat_fake = self.discriminator(fake_images,training=True)\n",
        "            yhat_realfake = tf.concat([yhat_real,yhat_fake],axis=0)\n",
        "\n",
        "            # Create labels for real and fake images\n",
        "            y_realfake = tf.concat([tf.zeros_like(yhat_real),tf.ones_like(yhat_fake)],axis=0)\n",
        "\n",
        "            # Add some noise to output\n",
        "            noise_real = 0.15*tf.random.uniform(tf.shape(yhat_real))\n",
        "            noise_fake = -0.15*tf.random.uniform(tf.shape(yhat_fake))\n",
        "            y_realfake += tf.concat([noise_real,noise_fake],axis=0)\n",
        "\n",
        "            # Calculate loss\n",
        "            total_d_loss = self.d_loss(y_realfake,yhat_realfake)\n",
        "\n",
        "        # Apply Back Propogation\n",
        "        dgrad = d_tape.gradient(total_d_loss,self.discriminator.trainable_variables)\n",
        "        self.d_opt.apply_gradients(zip(dgrad,self.discriminator.trainable_variables))\n",
        "\n",
        "        # Training the generator\n",
        "        with tf.GradientTape() as g_tape:\n",
        "\n",
        "            # Generate images using generator\n",
        "            gen_images = self.generator(tf.random.normal((128,128,1)), training = True)\n",
        "\n",
        "            # Create predicted labels\n",
        "            predicted_labels = self.discriminator(gen_images,training = False)\n",
        "\n",
        "            # Calculate loss\n",
        "            total_g_loss = self.g_loss(tf.zeros_like(predicted_labels),predicted_labels)\n",
        "\n",
        "        # Apply Back Propogation\n",
        "        g_grad = g_tape.gradient(total_g_loss, self.generator.trainable_variables)\n",
        "        self.g_opt.apply_gradients(zip(g_grad,self.generator.trainable_variables))\n",
        "\n",
        "\n",
        "        return {'d_loss':total_d_loss,'g_loss':total_g_loss}"
      ]
    },
    {
      "cell_type": "code",
      "execution_count": 21,
      "metadata": {
        "id": "c3M_AwCte3lI"
      },
      "outputs": [],
      "source": [
        "fashgan = GAN(generator,discriminator)"
      ]
    },
    {
      "cell_type": "code",
      "execution_count": 22,
      "metadata": {
        "id": "VOwpuYmne3lI"
      },
      "outputs": [],
      "source": [
        "fashgan.compile(g_opt,d_opt,g_loss,d_loss)"
      ]
    },
    {
      "cell_type": "code",
      "execution_count": 23,
      "metadata": {
        "id": "XtZKmCgze3lJ"
      },
      "outputs": [],
      "source": [
        "import os\n",
        "from tensorflow.keras.preprocessing.image import array_to_img\n",
        "from tensorflow.keras.callbacks import Callback"
      ]
    },
    {
      "cell_type": "code",
      "execution_count": 29,
      "metadata": {
        "id": "gV13ixske3lJ"
      },
      "outputs": [],
      "source": [
        "class ModelMonitor(Callback):\n",
        "    def __init__(self,num_img=3,latent_dim=128):\n",
        "        self.num_img = num_img\n",
        "        self.latent_dim = latent_dim\n",
        "\n",
        "    def on_epoch_end(self, epoch , logs = None):\n",
        "        random_latent_vectors = tf.random.uniform((self.num_img,self.latent_dim,1))\n",
        "        generated_img = self.model.generator(random_latent_vectors)\n",
        "        generated_img *= 255\n",
        "        generated_img.numpy()\n",
        "\n"
      ]
    },
    {
      "cell_type": "code",
      "execution_count": 30,
      "metadata": {
        "colab": {
          "base_uri": "https://localhost:8080/"
        },
        "id": "Fo38VDnJe3lJ",
        "outputId": "4e8f9ae8-bb5b-48be-c15b-b6512dcd7d7b"
      },
      "outputs": [
        {
          "output_type": "execute_result",
          "data": {
            "text/plain": [
              "(128, 28, 28, 1)"
            ]
          },
          "metadata": {},
          "execution_count": 30
        }
      ],
      "source": [
        "df.as_numpy_iterator().next().shape"
      ]
    },
    {
      "cell_type": "code",
      "execution_count": 31,
      "metadata": {
        "colab": {
          "base_uri": "https://localhost:8080/",
          "height": 35
        },
        "id": "9ogBb6uxe3lJ",
        "outputId": "984dc58c-90cb-466a-9464-864c8a1f8385"
      },
      "outputs": [
        {
          "output_type": "execute_result",
          "data": {
            "text/plain": [
              "'3.4.1'"
            ],
            "application/vnd.google.colaboratory.intrinsic+json": {
              "type": "string"
            }
          },
          "metadata": {},
          "execution_count": 31
        }
      ],
      "source": [
        "tf.keras.__version__"
      ]
    },
    {
      "cell_type": "code",
      "execution_count": 32,
      "metadata": {
        "colab": {
          "base_uri": "https://localhost:8080/"
        },
        "id": "9v5urfafe3lJ",
        "outputId": "e52a8bce-45e0-4403-f194-11ed438dbdb7"
      },
      "outputs": [
        {
          "output_type": "stream",
          "name": "stdout",
          "text": [
            "Tensorflow has access to \n",
            "[PhysicalDevice(name='/physical_device:CPU:0', device_type='CPU'), PhysicalDevice(name='/physical_device:GPU:0', device_type='GPU')]\n"
          ]
        }
      ],
      "source": [
        "print(f'Tensorflow has access to \\n{tf.config.list_physical_devices()}')"
      ]
    },
    {
      "cell_type": "code",
      "execution_count": 33,
      "metadata": {
        "colab": {
          "base_uri": "https://localhost:8080/"
        },
        "id": "zzHJXFBce3lJ",
        "outputId": "67390b66-a13e-4d8d-c63c-6ce03f49dcf2"
      },
      "outputs": [
        {
          "output_type": "stream",
          "name": "stdout",
          "text": [
            "Epoch 1/20\n",
            "\u001b[1m469/469\u001b[0m \u001b[32m━━━━━━━━━━━━━━━━━━━━\u001b[0m\u001b[37m\u001b[0m \u001b[1m97s\u001b[0m 206ms/step - d_loss: 0.6652 - g_loss: 1.0218\n",
            "Epoch 2/20\n",
            "\u001b[1m469/469\u001b[0m \u001b[32m━━━━━━━━━━━━━━━━━━━━\u001b[0m\u001b[37m\u001b[0m \u001b[1m142s\u001b[0m 206ms/step - d_loss: 0.6959 - g_loss: 0.6259\n",
            "Epoch 3/20\n",
            "\u001b[1m469/469\u001b[0m \u001b[32m━━━━━━━━━━━━━━━━━━━━\u001b[0m\u001b[37m\u001b[0m \u001b[1m97s\u001b[0m 206ms/step - d_loss: 0.7000 - g_loss: 0.6491\n",
            "Epoch 4/20\n",
            "\u001b[1m469/469\u001b[0m \u001b[32m━━━━━━━━━━━━━━━━━━━━\u001b[0m\u001b[37m\u001b[0m \u001b[1m97s\u001b[0m 207ms/step - d_loss: 0.6923 - g_loss: 0.6856\n",
            "Epoch 5/20\n",
            "\u001b[1m469/469\u001b[0m \u001b[32m━━━━━━━━━━━━━━━━━━━━\u001b[0m\u001b[37m\u001b[0m \u001b[1m97s\u001b[0m 207ms/step - d_loss: 0.6904 - g_loss: 0.6837\n",
            "Epoch 6/20\n",
            "\u001b[1m469/469\u001b[0m \u001b[32m━━━━━━━━━━━━━━━━━━━━\u001b[0m\u001b[37m\u001b[0m \u001b[1m142s\u001b[0m 206ms/step - d_loss: 0.6857 - g_loss: 0.6907\n",
            "Epoch 7/20\n",
            "\u001b[1m469/469\u001b[0m \u001b[32m━━━━━━━━━━━━━━━━━━━━\u001b[0m\u001b[37m\u001b[0m \u001b[1m142s\u001b[0m 206ms/step - d_loss: 0.5928 - g_loss: 0.9283\n",
            "Epoch 8/20\n",
            "\u001b[1m469/469\u001b[0m \u001b[32m━━━━━━━━━━━━━━━━━━━━\u001b[0m\u001b[37m\u001b[0m \u001b[1m97s\u001b[0m 207ms/step - d_loss: 0.6660 - g_loss: 0.4705\n",
            "Epoch 9/20\n",
            "\u001b[1m469/469\u001b[0m \u001b[32m━━━━━━━━━━━━━━━━━━━━\u001b[0m\u001b[37m\u001b[0m \u001b[1m97s\u001b[0m 207ms/step - d_loss: 0.6987 - g_loss: 0.6063\n",
            "Epoch 10/20\n",
            "\u001b[1m469/469\u001b[0m \u001b[32m━━━━━━━━━━━━━━━━━━━━\u001b[0m\u001b[37m\u001b[0m \u001b[1m97s\u001b[0m 207ms/step - d_loss: 0.6856 - g_loss: 0.6235\n",
            "Epoch 11/20\n",
            "\u001b[1m469/469\u001b[0m \u001b[32m━━━━━━━━━━━━━━━━━━━━\u001b[0m\u001b[37m\u001b[0m \u001b[1m97s\u001b[0m 207ms/step - d_loss: 0.6946 - g_loss: 0.6395\n",
            "Epoch 12/20\n",
            "\u001b[1m469/469\u001b[0m \u001b[32m━━━━━━━━━━━━━━━━━━━━\u001b[0m\u001b[37m\u001b[0m \u001b[1m142s\u001b[0m 206ms/step - d_loss: 0.6945 - g_loss: 0.6458\n",
            "Epoch 13/20\n",
            "\u001b[1m469/469\u001b[0m \u001b[32m━━━━━━━━━━━━━━━━━━━━\u001b[0m\u001b[37m\u001b[0m \u001b[1m97s\u001b[0m 206ms/step - d_loss: 0.6951 - g_loss: 0.6473\n",
            "Epoch 14/20\n",
            "\u001b[1m469/469\u001b[0m \u001b[32m━━━━━━━━━━━━━━━━━━━━\u001b[0m\u001b[37m\u001b[0m \u001b[1m97s\u001b[0m 206ms/step - d_loss: 0.6743 - g_loss: 0.7107\n",
            "Epoch 15/20\n",
            "\u001b[1m469/469\u001b[0m \u001b[32m━━━━━━━━━━━━━━━━━━━━\u001b[0m\u001b[37m\u001b[0m \u001b[1m142s\u001b[0m 207ms/step - d_loss: 0.6672 - g_loss: 0.6103\n",
            "Epoch 16/20\n",
            "\u001b[1m469/469\u001b[0m \u001b[32m━━━━━━━━━━━━━━━━━━━━\u001b[0m\u001b[37m\u001b[0m \u001b[1m97s\u001b[0m 207ms/step - d_loss: 0.6944 - g_loss: 0.6314\n",
            "Epoch 17/20\n",
            "\u001b[1m469/469\u001b[0m \u001b[32m━━━━━━━━━━━━━━━━━━━━\u001b[0m\u001b[37m\u001b[0m \u001b[1m97s\u001b[0m 207ms/step - d_loss: 0.6614 - g_loss: 0.6066\n",
            "Epoch 18/20\n",
            "\u001b[1m469/469\u001b[0m \u001b[32m━━━━━━━━━━━━━━━━━━━━\u001b[0m\u001b[37m\u001b[0m \u001b[1m97s\u001b[0m 207ms/step - d_loss: 0.6581 - g_loss: 0.5822\n",
            "Epoch 19/20\n",
            "\u001b[1m469/469\u001b[0m \u001b[32m━━━━━━━━━━━━━━━━━━━━\u001b[0m\u001b[37m\u001b[0m \u001b[1m97s\u001b[0m 207ms/step - d_loss: 0.6417 - g_loss: 0.4957\n",
            "Epoch 20/20\n",
            "\u001b[1m469/469\u001b[0m \u001b[32m━━━━━━━━━━━━━━━━━━━━\u001b[0m\u001b[37m\u001b[0m \u001b[1m97s\u001b[0m 207ms/step - d_loss: 0.6784 - g_loss: 0.6015\n"
          ]
        }
      ],
      "source": [
        "hist = fashgan.fit(df, epochs = 20 , callbacks=ModelMonitor())"
      ]
    },
    {
      "cell_type": "code",
      "execution_count": 35,
      "metadata": {
        "colab": {
          "base_uri": "https://localhost:8080/",
          "height": 522
        },
        "id": "BsTAfOFHe3lJ",
        "outputId": "388b321e-4169-444d-df44-524599a81278"
      },
      "outputs": [
        {
          "output_type": "display_data",
          "data": {
            "text/plain": [
              "<Figure size 1000x600 with 1 Axes>"
            ],
            "image/png": "[encoded data removed]"
          },
          "metadata": {}
        }
      ],
      "source": [
        "plt.figure(figsize=(10, 6))\n",
        "plt.plot(hist.history['d_loss'],label=\"Discriminator Loss\")\n",
        "plt.plot(hist.history['g_loss'],label=\"Generator Loss\")\n",
        "plt.legend()\n",
        "plt.show()"
      ]
    },
    {
      "cell_type": "code",
      "source": [
        "images = generator.predict(tf.random.normal((16,128,1)))"
      ],
      "metadata": {
        "colab": {
          "base_uri": "https://localhost:8080/"
        },
        "id": "jgqDwZiwq5I-",
        "outputId": "9d0a1374-9b97-4f87-9272-15170da96f44"
      },
      "execution_count": 39,
      "outputs": [
        {
          "output_type": "stream",
          "name": "stdout",
          "text": [
            "\u001b[1m1/1\u001b[0m \u001b[32m━━━━━━━━━━━━━━━━━━━━\u001b[0m\u001b[37m\u001b[0m \u001b[1m0s\u001b[0m 26ms/step\n"
          ]
        }
      ]
    },
    {
      "cell_type": "code",
      "source": [
        "fig,ax = plt.subplots(ncols=4)\n",
        "for r in range(4):\n",
        "  ax[r] = plt.imshow(images[r])"
      ],
      "metadata": {
        "colab": {
          "base_uri": "https://localhost:8080/",
          "height": 435
        },
        "id": "23Dvk8rprXNe",
        "outputId": "1840a0be-db6f-49dc-dfde-2bf78c2848b7"
      },
      "execution_count": 46,
      "outputs": [
        {
          "output_type": "display_data",
          "data": {
            "text/plain": [
              "<Figure size 640x480 with 4 Axes>"
            ],
            "image/png": "[encoded data removed]"
          },
          "metadata": {}
        }
      ]
    },
    {
      "cell_type": "code",
      "source": [],
      "metadata": {
        "id": "OP8WIkjOr8Wp"
      },
      "execution_count": null,
      "outputs": []
    }
  ],
  "metadata": {
    "kernelspec": {
      "display_name": "Python 3",
      "name": "python3"
    },
    "language_info": {
      "codemirror_mode": {
        "name": "ipython",
        "version": 3
      },
      "file_extension": ".py",
      "mimetype": "text/x-python",
      "name": "python",
      "nbconvert_exporter": "python",
      "pygments_lexer": "ipython3",
      "version": "3.11.9"
    },
    "colab": {
      "provenance": [],
      "gpuType": "T4"
    },
    "accelerator": "GPU"
  },
  "nbformat": 4,
  "nbformat_minor": 0
}